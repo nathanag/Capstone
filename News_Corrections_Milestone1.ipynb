{
 "cells": [
  {
   "cell_type": "markdown",
   "metadata": {},
   "source": [
    "We found that the Twitter search API limits you to tweets from the last 7 days. We found and used a python package called GetOldTweets that allows you to collect tweets without the Twitter API date limitations. The package can be found at the following link.\n",
    "https://github.com/Jefferson-Henrique/GetOldTweets-python\n",
    "\n",
    "The easiest way to use the package is to put a python file in the same directory as the package. Our code can be found at the following github link.\n",
    "https://github.com/nathanag/Capstone"
   ]
  },
  {
   "cell_type": "code",
   "execution_count": 1,
   "metadata": {},
   "outputs": [],
   "source": [
    "#pip install -r requirements.txt\n",
    "#pip install pyquery\n",
    "\n",
    "import sys\n",
    "if sys.version_info[0] < 3:\n",
    "    import got\n",
    "else:\n",
    "    import got3 as got\n",
    "\n",
    "#Print tweet from tweet object\n",
    "def printTweet(descr, t):\n",
    "\tprint(descr)\n",
    "\tprint(\"Username: %s\" % t.username)\n",
    "\tprint(\"Retweets: %d\" % t.retweets)\n",
    "\tprint(\"Text: %s\" % t.text)\n",
    "\tprint(\"Mentions: %s\" % t.mentions)\n",
    "\tprint(\"Hashtags: %s\\n\" % t.hashtags)"
   ]
  },
  {
   "cell_type": "code",
   "execution_count": 2,
   "metadata": {},
   "outputs": [],
   "source": [
    "handles = ['NYTimes', \n",
    "            'NBCNews',\n",
    "            'ProPublica',\n",
    "            'FoxNews',\n",
    "            'CBSNews',\n",
    "            'Newsweek',\n",
    "            'WashingtonPost',\n",
    "            'Buzzfeed',\n",
    "            'HuffPost',\n",
    "            'BreitbartNews',\n",
    "            'CNN',\n",
    "            'BBC',\n",
    "            'AP',\n",
    "            'WSJ',\n",
    "            'NPR',]"
   ]
  },
  {
   "cell_type": "markdown",
   "metadata": {},
   "source": [
    "The foor loop below sets the search criteria and collects the tweets. Tweets are stored in a list with the user handles. \".setQuerySearch()\" takes the query parameter (\"correction: from:\" + user). In this instance, we are searching for the phrase \"correction:\" from the user indicated. We also set 01.01.2015 as the date to search back to."
   ]
  },
  {
   "cell_type": "code",
   "execution_count": 3,
   "metadata": {},
   "outputs": [],
   "source": [
    "tweets = []\n",
    "for user in handles:\n",
    "    tweetCriteria = got.manager.TweetCriteria().setQuerySearch('correction: from:' + user).setSince(\"2015-01-01\")#.setMaxTweets(10)\n",
    "    tweets.append([user, got.manager.TweetManager.getTweets(tweetCriteria)])\n"
   ]
  },
  {
   "cell_type": "code",
   "execution_count": 11,
   "metadata": {},
   "outputs": [
    {
     "name": "stdout",
     "output_type": "stream",
     "text": [
      "tweet:\n",
      "Username: \n",
      "Retweets: 72\n",
      "Text: Correction: An earlier version of this story misstated Israeli attorney general's decision regarding PM Netanyahu; he plans to issue the indictment, but has not yet done so. Previous tweet, seen here, will be deleted. https://nbcnews.to/2H7Iw1U pic.twitter.com/MhUXXGXrrd\n",
      "Mentions: \n",
      "Hashtags: \n",
      "\n",
      "tweet:\n",
      "Username: \n",
      "Retweets: 13\n",
      "Text: Customers are fleeing in droves from AT&T's DirecTV Now streaming service. http://nbcnews.to/2DKaejm - @ claireatki (Correction: A previous headline erroneously described AT&T as buying DirecTV Now.)\n",
      "Mentions: @\n",
      "Hashtags: \n",
      "\n",
      "tweet:\n",
      "Username: \n",
      "Retweets: 19\n",
      "Text: UPDATE: Dow enters correction on Brexit uncertainty, intensified fears on trade. https://nbcnews.to/2QMFV2s\n",
      "Mentions: \n",
      "Hashtags: \n",
      "\n",
      "tweet:\n",
      "Username: \n",
      "Retweets: 40\n",
      "Text: Correction: Knickers is a steer, not a cow.\n",
      "Mentions: \n",
      "Hashtags: \n",
      "\n",
      "tweet:\n",
      "Username: \n",
      "Retweets: 14\n",
      "Text: Correction for social: The previous map image shared with this story on social media incorrectly swapped the colors representing states that allow medical marijuana and recreational and medical marijuana. https://nbcnews.to/2qVRw0L pic.twitter.com/CWttUvilVz\n",
      "Mentions: \n",
      "Hashtags: \n",
      "\n"
     ]
    }
   ],
   "source": [
    "#print all @NBCNews tweets\n",
    "for tweet in tweets[1][1][0:5]:\n",
    "    printTweet(\"tweet:\", tweet)"
   ]
  },
  {
   "cell_type": "code",
   "execution_count": 5,
   "metadata": {},
   "outputs": [
    {
     "data": {
      "text/plain": [
       "['__class__',\n",
       " '__delattr__',\n",
       " '__dict__',\n",
       " '__dir__',\n",
       " '__doc__',\n",
       " '__eq__',\n",
       " '__format__',\n",
       " '__ge__',\n",
       " '__getattribute__',\n",
       " '__gt__',\n",
       " '__hash__',\n",
       " '__init__',\n",
       " '__init_subclass__',\n",
       " '__le__',\n",
       " '__lt__',\n",
       " '__module__',\n",
       " '__ne__',\n",
       " '__new__',\n",
       " '__reduce__',\n",
       " '__reduce_ex__',\n",
       " '__repr__',\n",
       " '__setattr__',\n",
       " '__sizeof__',\n",
       " '__str__',\n",
       " '__subclasshook__',\n",
       " '__weakref__',\n",
       " 'author_id',\n",
       " 'date',\n",
       " 'favorites',\n",
       " 'formatted_date',\n",
       " 'geo',\n",
       " 'hashtags',\n",
       " 'id',\n",
       " 'mentions',\n",
       " 'permalink',\n",
       " 'retweets',\n",
       " 'text',\n",
       " 'urls',\n",
       " 'username']"
      ]
     },
     "execution_count": 5,
     "metadata": {},
     "output_type": "execute_result"
    }
   ],
   "source": [
    "#Show all fields for tweet object\n",
    "dir(tweets[1][1][0])"
   ]
  },
  {
   "cell_type": "code",
   "execution_count": 6,
   "metadata": {},
   "outputs": [
    {
     "name": "stdout",
     "output_type": "stream",
     "text": [
      "Number of Correction Tweets by Organization:\n",
      "NYTimes: 55\n",
      "NBCNews: 61\n",
      "ProPublica: 16\n",
      "FoxNews: 64\n",
      "CBSNews: 38\n",
      "Newsweek: 68\n",
      "WashingtonPost: 36\n",
      "Buzzfeed: 2\n",
      "HuffPost: 18\n",
      "BreitbartNews: 10\n",
      "CNN: 63\n",
      "BBC: 0\n",
      "AP: 58\n",
      "WSJ: 94\n",
      "NPR: 124\n"
     ]
    }
   ],
   "source": [
    "print(\"Number of Correction Tweets by Organization:\")\n",
    "for tweet in tweets:\n",
    "    print(tweet[0] + \": %d\" %  len(tweet[1]))"
   ]
  },
  {
   "cell_type": "code",
   "execution_count": 7,
   "metadata": {},
   "outputs": [
    {
     "name": "stdout",
     "output_type": "stream",
     "text": [
      "NYTimes Average retweets for corrections: 202\n",
      "NBCNews Average retweets for corrections: 735\n",
      "ProPublica Average retweets for corrections: 56\n",
      "FoxNews Average retweets for corrections: 134\n",
      "CBSNews Average retweets for corrections: 52\n",
      "Newsweek Average retweets for corrections: 9\n",
      "WashingtonPost Average retweets for corrections: 94\n",
      "Buzzfeed Average retweets for corrections: 2\n",
      "HuffPost Average retweets for corrections: 12\n",
      "BreitbartNews Average retweets for corrections: 52\n",
      "CNN Average retweets for corrections: 269\n",
      "BBC Average retweets for corrections: 0\n",
      "AP Average retweets for corrections: 145\n",
      "WSJ Average retweets for corrections: 98\n",
      "NPR Average retweets for corrections: 90\n"
     ]
    }
   ],
   "source": [
    "#Find average number of retweets for correction tweets by news organization\n",
    "avg_cor = []\n",
    "for tweet in tweets:\n",
    "    avg = 0\n",
    "    for t in tweet[1]:\n",
    "        avg += t.retweets\n",
    "    avg = avg / len(tweets[0][1])\n",
    "    avg_cor.append([tweet[0], avg])\n",
    "    print (tweet[0] + \" Average retweets for corrections: \" + str(int(avg)))"
   ]
  },
  {
   "cell_type": "code",
   "execution_count": 8,
   "metadata": {},
   "outputs": [],
   "source": [
    "#Collect recent tweets from corresponding news organizations\n",
    "tweets_nc = []\n",
    "i = 0\n",
    "for user in handles:\n",
    "    if len(tweets[i][1]):\n",
    "        tweetCriteria = got.manager.TweetCriteria().setUsername(user).setMaxTweets(len(tweets[i][1]))\n",
    "        tweets_nc.append([user, got.manager.TweetManager.getTweets(tweetCriteria)])\n",
    "    i += 1"
   ]
  },
  {
   "cell_type": "code",
   "execution_count": 9,
   "metadata": {},
   "outputs": [
    {
     "name": "stdout",
     "output_type": "stream",
     "text": [
      "NYTimes Average retweets: 81\n",
      "NBCNews Average retweets: 45\n",
      "ProPublica Average retweets: 19\n",
      "FoxNews Average retweets: 359\n",
      "CBSNews Average retweets: 17\n",
      "Newsweek Average retweets: 18\n",
      "WashingtonPost Average retweets: 22\n",
      "Buzzfeed Average retweets: 0\n",
      "HuffPost Average retweets: 6\n",
      "BreitbartNews Average retweets: 13\n",
      "CNN Average retweets: 98\n",
      "AP Average retweets: 128\n",
      "WSJ Average retweets: 53\n",
      "NPR Average retweets: 176\n"
     ]
    }
   ],
   "source": [
    "#Find average number of retweets for most recent tweets by news organization\n",
    "avg_ncor = []\n",
    "for tweet in tweets_nc:\n",
    "    avg = 0\n",
    "    for t in tweet[1]:\n",
    "        avg += t.retweets\n",
    "    avg = avg / len(tweets[0][1])\n",
    "    avg_ncor.append([tweet[0], avg])\n",
    "    print (tweet[0] + \" Average retweets: \" + str(int(avg)))"
   ]
  },
  {
   "cell_type": "code",
   "execution_count": 10,
   "metadata": {},
   "outputs": [
    {
     "name": "stdout",
     "output_type": "stream",
     "text": [
      "Percent Change from Normal to Corrected Retweets\n",
      "NYTimes: 0.5978407557354927\n",
      "NBCNews: 0.9376019374289527\n",
      "ProPublica: 0.6469063816002593\n",
      "FoxNews: -1.6789537877761216\n",
      "CBSNews: 0.674234606123151\n",
      "Newsweek: -0.963809523809524\n",
      "WashingtonPost: 0.7578320199884682\n",
      "Buzzfeed: 0.9603174603174603\n",
      "HuffPost: 0.42511346444780634\n",
      "BreitbartNews: 0.7432856644576212\n",
      "CNN: 0.6356280763266131\n",
      "BBC: 0\n",
      "AP: 0.6318495297805643\n",
      "WSJ: -0.7939651980747869\n"
     ]
    }
   ],
   "source": [
    "#Find percent change\n",
    "print(\"Percent Change from Normal to Corrected Retweets\")\n",
    "for i in range(0, len(avg_cor) -1):\n",
    "    if avg_cor[i][1] != 0 :\n",
    "        avg = (avg_cor[i][1] - avg_ncor[i][1]) / avg_cor[i][1]\n",
    "        print(handles[i] + \": \" + str(avg))\n",
    "    else:\n",
    "        print(handles[i] + \": \" + str(0))"
   ]
  },
  {
   "cell_type": "markdown",
   "metadata": {},
   "source": [
    "From this brief analysis, we found that tweets related to correction were retweeted at a higher rate than general tweets. However, this sample size is small and we intend to refine our approach. This python package is very useful for our project in allowing us to collect tweets farther back than 7 days."
   ]
  }
 ],
 "metadata": {
  "kernelspec": {
   "display_name": "Python 3",
   "language": "python",
   "name": "python3"
  },
  "language_info": {
   "codemirror_mode": {
    "name": "ipython",
    "version": 3
   },
   "file_extension": ".py",
   "mimetype": "text/x-python",
   "name": "python",
   "nbconvert_exporter": "python",
   "pygments_lexer": "ipython3",
   "version": "3.6.5"
  }
 },
 "nbformat": 4,
 "nbformat_minor": 2
}
